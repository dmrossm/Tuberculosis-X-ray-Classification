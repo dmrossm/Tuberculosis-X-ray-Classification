{
 "cells": [
  {
   "cell_type": "code",
   "execution_count": 4,
   "metadata": {},
   "outputs": [
    {
     "name": "stdout",
     "output_type": "stream",
     "text": [
      "Requirement already satisfied: keras-tuner in /Users/daniellerossman/Desktop/anaconda3/envs/learn-env/lib/python3.8/site-packages (1.1.0)\n",
      "Requirement already satisfied: packaging in /Users/daniellerossman/Desktop/anaconda3/envs/learn-env/lib/python3.8/site-packages (from keras-tuner) (20.4)\n",
      "Requirement already satisfied: requests in /Users/daniellerossman/Desktop/anaconda3/envs/learn-env/lib/python3.8/site-packages (from keras-tuner) (2.24.0)\n",
      "Requirement already satisfied: numpy in /Users/daniellerossman/Desktop/anaconda3/envs/learn-env/lib/python3.8/site-packages (from keras-tuner) (1.18.5)\n",
      "Requirement already satisfied: ipython in /Users/daniellerossman/Desktop/anaconda3/envs/learn-env/lib/python3.8/site-packages (from keras-tuner) (7.18.1)\n",
      "Requirement already satisfied: tensorboard in /Users/daniellerossman/Desktop/anaconda3/envs/learn-env/lib/python3.8/site-packages (from keras-tuner) (2.3.0)\n",
      "Requirement already satisfied: scipy in /Users/daniellerossman/Desktop/anaconda3/envs/learn-env/lib/python3.8/site-packages (from keras-tuner) (1.5.2)\n",
      "Requirement already satisfied: kt-legacy in /Users/daniellerossman/Desktop/anaconda3/envs/learn-env/lib/python3.8/site-packages (from keras-tuner) (1.0.4)\n",
      "Requirement already satisfied: six in /Users/daniellerossman/Desktop/anaconda3/envs/learn-env/lib/python3.8/site-packages (from packaging->keras-tuner) (1.15.0)\n",
      "Requirement already satisfied: pyparsing>=2.0.2 in /Users/daniellerossman/Desktop/anaconda3/envs/learn-env/lib/python3.8/site-packages (from packaging->keras-tuner) (2.4.7)\n",
      "Requirement already satisfied: chardet<4,>=3.0.2 in /Users/daniellerossman/Desktop/anaconda3/envs/learn-env/lib/python3.8/site-packages (from requests->keras-tuner) (3.0.4)\n",
      "Requirement already satisfied: urllib3!=1.25.0,!=1.25.1,<1.26,>=1.21.1 in /Users/daniellerossman/Desktop/anaconda3/envs/learn-env/lib/python3.8/site-packages (from requests->keras-tuner) (1.25.10)\n",
      "Requirement already satisfied: idna<3,>=2.5 in /Users/daniellerossman/Desktop/anaconda3/envs/learn-env/lib/python3.8/site-packages (from requests->keras-tuner) (2.10)\n",
      "Requirement already satisfied: certifi>=2017.4.17 in /Users/daniellerossman/Desktop/anaconda3/envs/learn-env/lib/python3.8/site-packages (from requests->keras-tuner) (2021.5.30)\n",
      "Requirement already satisfied: backcall in /Users/daniellerossman/Desktop/anaconda3/envs/learn-env/lib/python3.8/site-packages (from ipython->keras-tuner) (0.2.0)\n",
      "Requirement already satisfied: setuptools>=18.5 in /Users/daniellerossman/Desktop/anaconda3/envs/learn-env/lib/python3.8/site-packages (from ipython->keras-tuner) (50.3.0.post20201103)\n",
      "Requirement already satisfied: traitlets>=4.2 in /Users/daniellerossman/Desktop/anaconda3/envs/learn-env/lib/python3.8/site-packages (from ipython->keras-tuner) (5.0.4)\n",
      "Requirement already satisfied: pickleshare in /Users/daniellerossman/Desktop/anaconda3/envs/learn-env/lib/python3.8/site-packages (from ipython->keras-tuner) (0.7.5)\n",
      "Requirement already satisfied: pexpect>4.3; sys_platform != \"win32\" in /Users/daniellerossman/Desktop/anaconda3/envs/learn-env/lib/python3.8/site-packages (from ipython->keras-tuner) (4.8.0)\n",
      "Requirement already satisfied: decorator in /Users/daniellerossman/Desktop/anaconda3/envs/learn-env/lib/python3.8/site-packages (from ipython->keras-tuner) (4.4.2)\n",
      "Requirement already satisfied: jedi>=0.10 in /Users/daniellerossman/Desktop/anaconda3/envs/learn-env/lib/python3.8/site-packages (from ipython->keras-tuner) (0.17.2)\n",
      "Requirement already satisfied: prompt-toolkit!=3.0.0,!=3.0.1,<3.1.0,>=2.0.0 in /Users/daniellerossman/Desktop/anaconda3/envs/learn-env/lib/python3.8/site-packages (from ipython->keras-tuner) (3.0.8)\n",
      "Requirement already satisfied: appnope; sys_platform == \"darwin\" in /Users/daniellerossman/Desktop/anaconda3/envs/learn-env/lib/python3.8/site-packages (from ipython->keras-tuner) (0.1.0)\n",
      "Requirement already satisfied: pygments in /Users/daniellerossman/Desktop/anaconda3/envs/learn-env/lib/python3.8/site-packages (from ipython->keras-tuner) (2.7.1)\n",
      "Requirement already satisfied: protobuf>=3.6.0 in /Users/daniellerossman/Desktop/anaconda3/envs/learn-env/lib/python3.8/site-packages (from tensorboard->keras-tuner) (3.13.0)\n",
      "Requirement already satisfied: tensorboard-plugin-wit>=1.6.0 in /Users/daniellerossman/Desktop/anaconda3/envs/learn-env/lib/python3.8/site-packages (from tensorboard->keras-tuner) (1.7.0)\n",
      "Requirement already satisfied: google-auth<2,>=1.6.3 in /Users/daniellerossman/Desktop/anaconda3/envs/learn-env/lib/python3.8/site-packages (from tensorboard->keras-tuner) (1.22.0)\n",
      "Requirement already satisfied: google-auth-oauthlib<0.5,>=0.4.1 in /Users/daniellerossman/Desktop/anaconda3/envs/learn-env/lib/python3.8/site-packages (from tensorboard->keras-tuner) (0.4.1)\n",
      "Requirement already satisfied: grpcio>=1.24.3 in /Users/daniellerossman/Desktop/anaconda3/envs/learn-env/lib/python3.8/site-packages (from tensorboard->keras-tuner) (1.31.0)\n",
      "Requirement already satisfied: absl-py>=0.4 in /Users/daniellerossman/Desktop/anaconda3/envs/learn-env/lib/python3.8/site-packages (from tensorboard->keras-tuner) (0.10.0)\n",
      "Requirement already satisfied: werkzeug>=0.11.15 in /Users/daniellerossman/Desktop/anaconda3/envs/learn-env/lib/python3.8/site-packages (from tensorboard->keras-tuner) (1.0.1)\n",
      "Requirement already satisfied: wheel>=0.26; python_version >= \"3\" in /Users/daniellerossman/Desktop/anaconda3/envs/learn-env/lib/python3.8/site-packages (from tensorboard->keras-tuner) (0.35.1)\n",
      "Requirement already satisfied: markdown>=2.6.8 in /Users/daniellerossman/Desktop/anaconda3/envs/learn-env/lib/python3.8/site-packages (from tensorboard->keras-tuner) (3.3.1)\n",
      "Requirement already satisfied: ipython-genutils in /Users/daniellerossman/Desktop/anaconda3/envs/learn-env/lib/python3.8/site-packages (from traitlets>=4.2->ipython->keras-tuner) (0.2.0)\n",
      "Requirement already satisfied: ptyprocess>=0.5 in /Users/daniellerossman/Desktop/anaconda3/envs/learn-env/lib/python3.8/site-packages (from pexpect>4.3; sys_platform != \"win32\"->ipython->keras-tuner) (0.6.0)\n",
      "Requirement already satisfied: parso<0.8.0,>=0.7.0 in /Users/daniellerossman/Desktop/anaconda3/envs/learn-env/lib/python3.8/site-packages (from jedi>=0.10->ipython->keras-tuner) (0.7.1)\n",
      "Requirement already satisfied: wcwidth in /Users/daniellerossman/Desktop/anaconda3/envs/learn-env/lib/python3.8/site-packages (from prompt-toolkit!=3.0.0,!=3.0.1,<3.1.0,>=2.0.0->ipython->keras-tuner) (0.2.5)\n",
      "Requirement already satisfied: aiohttp<4.0.0dev,>=3.6.2; python_version >= \"3.6\" in /Users/daniellerossman/Desktop/anaconda3/envs/learn-env/lib/python3.8/site-packages (from google-auth<2,>=1.6.3->tensorboard->keras-tuner) (3.6.2)\n",
      "Requirement already satisfied: pyasn1-modules>=0.2.1 in /Users/daniellerossman/Desktop/anaconda3/envs/learn-env/lib/python3.8/site-packages (from google-auth<2,>=1.6.3->tensorboard->keras-tuner) (0.2.7)\n",
      "Requirement already satisfied: rsa<5,>=3.1.4; python_version >= \"3.5\" in /Users/daniellerossman/Desktop/anaconda3/envs/learn-env/lib/python3.8/site-packages (from google-auth<2,>=1.6.3->tensorboard->keras-tuner) (4.6)\n",
      "Requirement already satisfied: cachetools<5.0,>=2.0.0 in /Users/daniellerossman/Desktop/anaconda3/envs/learn-env/lib/python3.8/site-packages (from google-auth<2,>=1.6.3->tensorboard->keras-tuner) (4.1.1)\n",
      "Requirement already satisfied: requests-oauthlib>=0.7.0 in /Users/daniellerossman/Desktop/anaconda3/envs/learn-env/lib/python3.8/site-packages (from google-auth-oauthlib<0.5,>=0.4.1->tensorboard->keras-tuner) (1.3.0)\n",
      "Requirement already satisfied: multidict<5.0,>=4.5 in /Users/daniellerossman/Desktop/anaconda3/envs/learn-env/lib/python3.8/site-packages (from aiohttp<4.0.0dev,>=3.6.2; python_version >= \"3.6\"->google-auth<2,>=1.6.3->tensorboard->keras-tuner) (4.7.5)\n",
      "Requirement already satisfied: attrs>=17.3.0 in /Users/daniellerossman/Desktop/anaconda3/envs/learn-env/lib/python3.8/site-packages (from aiohttp<4.0.0dev,>=3.6.2; python_version >= \"3.6\"->google-auth<2,>=1.6.3->tensorboard->keras-tuner) (20.2.0)\n",
      "Requirement already satisfied: async-timeout<4.0,>=3.0 in /Users/daniellerossman/Desktop/anaconda3/envs/learn-env/lib/python3.8/site-packages (from aiohttp<4.0.0dev,>=3.6.2; python_version >= \"3.6\"->google-auth<2,>=1.6.3->tensorboard->keras-tuner) (3.0.1)\n"
     ]
    },
    {
     "name": "stdout",
     "output_type": "stream",
     "text": [
      "Requirement already satisfied: yarl<2.0,>=1.0 in /Users/daniellerossman/Desktop/anaconda3/envs/learn-env/lib/python3.8/site-packages (from aiohttp<4.0.0dev,>=3.6.2; python_version >= \"3.6\"->google-auth<2,>=1.6.3->tensorboard->keras-tuner) (1.6.2)\r\n",
      "Requirement already satisfied: pyasn1<0.5.0,>=0.4.6 in /Users/daniellerossman/Desktop/anaconda3/envs/learn-env/lib/python3.8/site-packages (from pyasn1-modules>=0.2.1->google-auth<2,>=1.6.3->tensorboard->keras-tuner) (0.4.8)\r\n",
      "Requirement already satisfied: oauthlib>=3.0.0 in /Users/daniellerossman/Desktop/anaconda3/envs/learn-env/lib/python3.8/site-packages (from requests-oauthlib>=0.7.0->google-auth-oauthlib<0.5,>=0.4.1->tensorboard->keras-tuner) (3.1.0)\r\n"
     ]
    }
   ],
   "source": [
    "import numpy as np \n",
    "import pandas as pd \n",
    "import seaborn as sns\n",
    "import random\n",
    "import matplotlib.pyplot as plt\n",
    "import keras\n",
    "from keras import layers\n",
    "from keras.preprocessing.image import ImageDataGenerator\n",
    "from keras.applications.densenet import DenseNet121\n",
    "from keras.layers import Dense, GlobalAveragePooling2D\n",
    "from keras.models import Model\n",
    "from keras import backend as K\n",
    "from shutil import copyfile, rmtree\n",
    "\n",
    "\n",
    "!pip install keras-tuner"
   ]
  },
  {
   "cell_type": "code",
   "execution_count": 6,
   "metadata": {},
   "outputs": [],
   "source": [
    "import math\n",
    "import pandas as pd\n",
    "import tensorflow as tf\n",
    "import matplotlib.pyplot as plt\n",
    "from tensorflow.keras import Model\n",
    "from tensorflow.keras import Sequential\n",
    "from tensorflow.keras.optimizers import Adam\n",
    "from sklearn.preprocessing import StandardScaler\n",
    "from tensorflow.keras.layers import Dense, Dropout\n",
    "from sklearn.model_selection import train_test_split\n",
    "from tensorflow.keras.losses import MeanSquaredLogarithmicError"
   ]
  },
  {
   "cell_type": "code",
   "execution_count": null,
   "metadata": {},
   "outputs": [],
   "source": [
    "import keras_tuner as kt\n",
    "\n",
    "msle = MeanSquaredLogarithmicError()"
   ]
  },
  {
   "cell_type": "code",
   "execution_count": null,
   "metadata": {},
   "outputs": [],
   "source": [
    "def build_model(hp):\n",
    "  model = tf.keras.Sequential()\n",
    "  \n",
    "  # Tune the number of units in the first Dense layer\n",
    "  # Choose an optimal value between 32-512\n",
    "  hp_units1 = hp.Int('units1', min_value=32, max_value=512, step=32)\n",
    "  hp_units2 = hp.Int('units2', min_value=32, max_value=512, step=32)\n",
    "  hp_units3 = hp.Int('units3', min_value=32, max_value=512, step=32)\n",
    "  model.add(Dense(units=hp_units1, activation='relu'))\n",
    "  model.add(tf.keras.layers.Dense(units=hp_units2, activation='relu'))\n",
    "  model.add(tf.keras.layers.Dense(units=hp_units3, activation='relu'))\n",
    "  model.add(Dense(1, kernel_initializer='normal', activation='linear'))\n",
    "\n",
    "# Tune the learning rate for the optimizer\n",
    "# Choose an optimal value from 0.01, 0.001, or 0.0001\n",
    "  hp_learning_rate = hp.Choice('learning_rate', values=[1e-2, 1e-3, 1e-4])\n",
    "\n",
    "  model.compile(\n",
    "      optimizer=tf.keras.optimizers.Adam(learning_rate=hp_learning_rate),\n",
    "      loss=msle,\n",
    "      metrics=[msle]\n",
    "  )\n",
    "\n",
    "  return model\n",
    "\n",
    "# HyperBand algorithm from keras tuner\n",
    "tuner = kt.Hyperband(\n",
    "    build_model,\n",
    "    objective='val_mean_squared_logarithmic_error',\n",
    "    max_epochs=10,\n",
    "    directory='keras_tuner_dir',\n",
    "    project_name='keras_tuner_demo'\n",
    ")\n",
    "\n",
    "tuner.search(x_train_scaled, y_train, epochs=10, validation_split=0.2)"
   ]
  },
  {
   "cell_type": "code",
   "execution_count": null,
   "metadata": {},
   "outputs": [],
   "source": [
    "from kerastuner import HyperModel\n",
    "\n",
    "\n",
    "class ANNHyperModel(HyperModel):\n",
    "    \n",
    "    def build(self, hp):\n",
    "      model = tf.keras.Sequential()\n",
    "      # Tune the number of units in the first Dense layer\n",
    "      # Choose an optimal value between 32-512\n",
    "      hp_units1 = hp.Int('units1', min_value=32, max_value=512, step=32)\n",
    "      hp_units2 = hp.Int('units2', min_value=32, max_value=512, step=32)\n",
    "      hp_units3 = hp.Int('units3', min_value=32, max_value=512, step=32)\n",
    "      model.add(Dense(units=hp_units1, activation='relu'))\n",
    "      model.add(tf.keras.layers.Dense(units=hp_units2, activation='relu'))\n",
    "      model.add(tf.keras.layers.Dense(units=hp_units3, activation='relu'))\n",
    "      model.add(Dense(1, kernel_initializer='normal', activation='linear'))\n",
    "\n",
    "      # Tune the learning rate for the optimizer\n",
    "      # Choose an optimal value from 0.01, 0.001, or 0.0001\n",
    "      hp_learning_rate = hp.Choice('learning_rate', values=[1e-2, 1e-3, 1e-4])\n",
    "\n",
    "      model.compile(\n",
    "          optimizer=tf.keras.optimizers.Adam(learning_rate=hp_learning_rate),\n",
    "          loss=msle,\n",
    "          metrics=[msle]\n",
    "      )\n",
    "\n",
    "      return model\n",
    "\n",
    "hypermodel = ANNHyperModel()\n",
    "\n",
    "tuner = kt.Hyperband(\n",
    "    hypermodel,\n",
    "    objective='val_mean_squared_logarithmic_error',\n",
    "    max_epochs=10,\n",
    "    factor=3,\n",
    "    directory='keras_tuner_dir',\n",
    "    project_name='keras_tuner_demo2'\n",
    ")\n",
    "\n",
    "tuner.search(x_train_scaled, y_train, epochs=10, validation_split=0.2)"
   ]
  },
  {
   "cell_type": "code",
   "execution_count": null,
   "metadata": {},
   "outputs": [],
   "source": []
  },
  {
   "cell_type": "code",
   "execution_count": null,
   "metadata": {},
   "outputs": [],
   "source": []
  },
  {
   "cell_type": "code",
   "execution_count": null,
   "metadata": {},
   "outputs": [],
   "source": []
  },
  {
   "cell_type": "code",
   "execution_count": null,
   "metadata": {},
   "outputs": [],
   "source": [
    "def build_model(hp):\n",
    "  model = keras.Sequential()\n",
    "  model.add(keras.layers.Dense(\n",
    "      hp.Choice('units', [8, 16, 32]),\n",
    "      activation='relu'))\n",
    "  model.add(keras.layers.Dense(1, activation='relu'))\n",
    "  model.compile(loss='mse')\n",
    "  return model"
   ]
  },
  {
   "cell_type": "code",
   "execution_count": null,
   "metadata": {},
   "outputs": [],
   "source": []
  },
  {
   "cell_type": "code",
   "execution_count": null,
   "metadata": {},
   "outputs": [],
   "source": [
    "tuner = kt.RandomSearch(\n",
    "    build_model,\n",
    "    objective='val_loss',\n",
    "    max_trials=5)"
   ]
  },
  {
   "cell_type": "code",
   "execution_count": null,
   "metadata": {},
   "outputs": [],
   "source": []
  },
  {
   "cell_type": "code",
   "execution_count": null,
   "metadata": {},
   "outputs": [],
   "source": []
  },
  {
   "cell_type": "code",
   "execution_count": null,
   "metadata": {},
   "outputs": [],
   "source": []
  },
  {
   "cell_type": "code",
   "execution_count": null,
   "metadata": {},
   "outputs": [],
   "source": []
  },
  {
   "cell_type": "code",
   "execution_count": null,
   "metadata": {},
   "outputs": [],
   "source": []
  },
  {
   "cell_type": "code",
   "execution_count": null,
   "metadata": {},
   "outputs": [],
   "source": []
  }
 ],
 "metadata": {
  "kernelspec": {
   "display_name": "Python (learn-env)",
   "language": "python",
   "name": "learn-env"
  },
  "language_info": {
   "codemirror_mode": {
    "name": "ipython",
    "version": 3
   },
   "file_extension": ".py",
   "mimetype": "text/x-python",
   "name": "python",
   "nbconvert_exporter": "python",
   "pygments_lexer": "ipython3",
   "version": "3.8.5"
  }
 },
 "nbformat": 4,
 "nbformat_minor": 4
}
