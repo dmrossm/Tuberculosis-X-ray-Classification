{
 "cells": [
  {
   "cell_type": "code",
   "execution_count": 1,
   "metadata": {},
   "outputs": [],
   "source": [
    "import numpy as np \n",
    "import pandas as pd \n",
    "import random\n",
    "import matplotlib.pyplot as plt\n",
    "import keras\n",
    "from keras import layers\n",
    "from keras.preprocessing.image import ImageDataGenerator\n",
    "from keras.applications.densenet import DenseNet121\n",
    "from keras.layers import Dense, GlobalAveragePooling2D\n",
    "from keras.models import Model\n",
    "from keras import backend as K\n",
    "from shutil import copyfile, rmtree"
   ]
  },
  {
   "cell_type": "code",
   "execution_count": 2,
   "metadata": {
    "scrolled": true
   },
   "outputs": [
    {
     "name": "stdout",
     "output_type": "stream",
     "text": [
      "README.md                     Untitled.ipynb\r\n",
      "\u001b[34mTB_Chest_Radiography_Database\u001b[m\u001b[m\r\n"
     ]
    }
   ],
   "source": [
    "!ls"
   ]
  },
  {
   "cell_type": "code",
   "execution_count": 3,
   "metadata": {
    "scrolled": true
   },
   "outputs": [
    {
     "name": "stdout",
     "output_type": "stream",
     "text": [
      "\u001b[34mData_split\u001b[m\u001b[m                 README.md.txt\r\n",
      "\u001b[34mNormal\u001b[m\u001b[m                     \u001b[34mTuberculosis\u001b[m\u001b[m\r\n",
      "Normal.metadata.xlsx       Tuberculosis.metadata.xlsx\r\n"
     ]
    }
   ],
   "source": [
    "!ls TB_Chest_Radiography_Database"
   ]
  },
  {
   "cell_type": "code",
   "execution_count": 4,
   "metadata": {},
   "outputs": [
    {
     "name": "stdout",
     "output_type": "stream",
     "text": [
      "\u001b[34mTest\u001b[m\u001b[m       \u001b[34mTrain\u001b[m\u001b[m      \u001b[34mValidation\u001b[m\u001b[m\r\n"
     ]
    }
   ],
   "source": [
    "!ls TB_Chest_Radiography_Database/Data_split"
   ]
  },
  {
   "cell_type": "code",
   "execution_count": 5,
   "metadata": {},
   "outputs": [
    {
     "name": "stdout",
     "output_type": "stream",
     "text": [
      "Found 2940 images belonging to 2 classes.\n",
      "Found 840 images belonging to 2 classes.\n",
      "Found 420 images belonging to 2 classes.\n"
     ]
    }
   ],
   "source": [
    "# Instantiating a generator object and normalizing the RGB values\n",
    "traingen = keras.preprocessing.image.ImageDataGenerator(rescale=1/255)\n",
    "testgen = keras.preprocessing.image.ImageDataGenerator(rescale=1/255)\n",
    "valgen = keras.preprocessing.image.ImageDataGenerator(rescale=1/255)\n",
    "\n",
    "train_data = traingen.flow_from_directory(\n",
    "    directory='TB_Chest_Radiography_Database/Data_split/Train',\n",
    "    target_size=(512, 512),\n",
    "    class_mode='binary',\n",
    "    batch_size=20,\n",
    "    seed=42\n",
    ")\n",
    "\n",
    "test_data = testgen.flow_from_directory(\n",
    "    directory='TB_Chest_Radiography_Database/Data_split/Test',\n",
    "    target_size=(512, 512),\n",
    "    class_mode='binary',\n",
    "    batch_size=20,\n",
    "    seed=42\n",
    ")\n",
    "\n",
    "val_data = valgen.flow_from_directory(\n",
    "    directory='TB_Chest_Radiography_Database/Data_split/Validation',\n",
    "    target_size=(512, 512),\n",
    "    class_mode='binary',\n",
    "    batch_size=20,\n",
    "    seed=42\n",
    ")"
   ]
  },
  {
   "cell_type": "code",
   "execution_count": 6,
   "metadata": {},
   "outputs": [],
   "source": [
    "input_shape = (512,512,3)"
   ]
  },
  {
   "cell_type": "code",
   "execution_count": 7,
   "metadata": {},
   "outputs": [
    {
     "name": "stdout",
     "output_type": "stream",
     "text": [
      "Model: \"sequential\"\n",
      "_________________________________________________________________\n",
      "Layer (type)                 Output Shape              Param #   \n",
      "=================================================================\n",
      "flatten (Flatten)            (None, 786432)            0         \n",
      "_________________________________________________________________\n",
      "dense (Dense)                (None, 64)                50331712  \n",
      "_________________________________________________________________\n",
      "dense_1 (Dense)              (None, 1)                 65        \n",
      "=================================================================\n",
      "Total params: 50,331,777\n",
      "Trainable params: 50,331,777\n",
      "Non-trainable params: 0\n",
      "_________________________________________________________________\n"
     ]
    }
   ],
   "source": [
    "# Model building in a single list\n",
    "baseline = keras.Sequential(\n",
    "    [\n",
    "        keras.Input(shape=input_shape), # Don't always need this input separately\n",
    "        layers.Flatten(), # need to flatten our images to be one long array\n",
    "        layers.Dense(64, activation=\"tanh\"),\n",
    "        layers.Dense(1, activation=\"sigmoid\"), #sigmoid for binary\n",
    "    ])\n",
    "\n",
    "baseline.summary()"
   ]
  },
  {
   "cell_type": "code",
   "execution_count": 8,
   "metadata": {},
   "outputs": [],
   "source": [
    "batch_size = 20\n",
    "epochs = 10\n",
    "\n",
    "# Compiling our model\n",
    "baseline.compile(loss=\"binary_crossentropy\", optimizer=\"sgd\", metrics=[\"acc\"])\n",
    "#loss different for binary"
   ]
  },
  {
   "cell_type": "code",
   "execution_count": 9,
   "metadata": {},
   "outputs": [
    {
     "name": "stdout",
     "output_type": "stream",
     "text": [
      "WARNING:tensorflow:From <ipython-input-9-eb85f684c7b1>:1: Model.fit_generator (from tensorflow.python.keras.engine.training) is deprecated and will be removed in a future version.\n",
      "Instructions for updating:\n",
      "Please use Model.fit, which supports generators.\n",
      "Epoch 1/10\n",
      "20/20 [==============================] - 15s 744ms/step - loss: 1.3646 - acc: 0.8050 - val_loss: 1.1528 - val_acc: 0.8333\n",
      "Epoch 2/10\n",
      "20/20 [==============================] - 15s 733ms/step - loss: 0.9670 - acc: 0.8375 - val_loss: 0.8148 - val_acc: 0.8333\n",
      "Epoch 3/10\n",
      "20/20 [==============================] - 14s 720ms/step - loss: 0.6299 - acc: 0.8475 - val_loss: 0.5604 - val_acc: 0.8333\n",
      "Epoch 4/10\n",
      "20/20 [==============================] - 14s 700ms/step - loss: 0.4207 - acc: 0.8675 - val_loss: 0.4712 - val_acc: 0.8333\n",
      "Epoch 5/10\n",
      "20/20 [==============================] - 15s 725ms/step - loss: 0.4863 - acc: 0.8175 - val_loss: 0.4506 - val_acc: 0.8333\n",
      "Epoch 6/10\n",
      "20/20 [==============================] - 14s 682ms/step - loss: 0.4540 - acc: 0.8325 - val_loss: 0.4510 - val_acc: 0.8333\n",
      "Epoch 7/10\n",
      "20/20 [==============================] - 13s 665ms/step - loss: 0.4450 - acc: 0.8375 - val_loss: 0.4507 - val_acc: 0.8333\n",
      "Epoch 8/10\n",
      "20/20 [==============================] - 13s 662ms/step - loss: 0.4750 - acc: 0.8200 - val_loss: 0.4519 - val_acc: 0.8333\n",
      "Epoch 9/10\n",
      "20/20 [==============================] - 14s 716ms/step - loss: 0.4131 - acc: 0.8575 - val_loss: 0.4521 - val_acc: 0.8333\n",
      "Epoch 10/10\n",
      "20/20 [==============================] - 13s 670ms/step - loss: 0.4512 - acc: 0.8350 - val_loss: 0.4507 - val_acc: 0.8333\n"
     ]
    }
   ],
   "source": [
    "baseline_results = baseline.fit_generator(train_data,\n",
    "                              steps_per_epoch=20,\n",
    "                              epochs=10,\n",
    "                              validation_data=test_data)"
   ]
  },
  {
   "cell_type": "code",
   "execution_count": null,
   "metadata": {},
   "outputs": [],
   "source": []
  }
 ],
 "metadata": {
  "kernelspec": {
   "display_name": "Python 3",
   "language": "python",
   "name": "python3"
  },
  "language_info": {
   "codemirror_mode": {
    "name": "ipython",
    "version": 3
   },
   "file_extension": ".py",
   "mimetype": "text/x-python",
   "name": "python",
   "nbconvert_exporter": "python",
   "pygments_lexer": "ipython3",
   "version": "3.8.5"
  }
 },
 "nbformat": 4,
 "nbformat_minor": 4
}
