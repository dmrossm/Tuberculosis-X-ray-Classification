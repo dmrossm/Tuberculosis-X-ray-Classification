{
 "cells": [
  {
   "cell_type": "code",
   "execution_count": 1,
   "metadata": {},
   "outputs": [],
   "source": [
    "import numpy as np \n",
    "import pandas as pd \n",
    "import seaborn as sns\n",
    "import matplotlib.pyplot as plt\n",
    "import keras\n",
    "from keras import layers\n",
    "from keras.preprocessing.image import ImageDataGenerator\n",
    "from keras.layers import Dense\n",
    "from keras.models import Model"
   ]
  },
  {
   "cell_type": "code",
   "execution_count": 3,
   "metadata": {},
   "outputs": [
    {
     "name": "stdout",
     "output_type": "stream",
     "text": [
      "Normal-3172.png      Training_Images.png  Untitled.ipynb\r\n",
      "Opening Slide.jpg    Tuberculosis-644.png\r\n"
     ]
    }
   ],
   "source": [
    "! ls"
   ]
  },
  {
   "cell_type": "code",
   "execution_count": 4,
   "metadata": {},
   "outputs": [
    {
     "name": "stdout",
     "output_type": "stream",
     "text": [
      "\u001b[34mImages\u001b[m\u001b[m                                  environment.yml\r\n",
      "\u001b[34mNotebooks\u001b[m\u001b[m                               model.05-0.17.h5\r\n",
      "README.md                               model.06-0.18.h5\r\n",
      "\u001b[34mTB_Chest_Radiography_Database\u001b[m\u001b[m           model.07-0.52.h5\r\n",
      "Tuberculosis-X-ray-Classification.ipynb\r\n"
     ]
    }
   ],
   "source": [
    "! ls ../"
   ]
  },
  {
   "cell_type": "code",
   "execution_count": 5,
   "metadata": {},
   "outputs": [
    {
     "name": "stdout",
     "output_type": "stream",
     "text": [
      "\u001b[34mData_split\u001b[m\u001b[m\r\n"
     ]
    }
   ],
   "source": [
    "!ls ../TB_Chest_Radiography_Database"
   ]
  },
  {
   "cell_type": "code",
   "execution_count": 6,
   "metadata": {},
   "outputs": [
    {
     "name": "stdout",
     "output_type": "stream",
     "text": [
      "\u001b[34mTest\u001b[m\u001b[m       \u001b[34mTrain\u001b[m\u001b[m      \u001b[34mValidation\u001b[m\u001b[m\r\n"
     ]
    }
   ],
   "source": [
    "!ls ../TB_Chest_Radiography_Database/Data_split"
   ]
  },
  {
   "cell_type": "code",
   "execution_count": null,
   "metadata": {},
   "outputs": [],
   "source": []
  },
  {
   "cell_type": "code",
   "execution_count": null,
   "metadata": {},
   "outputs": [],
   "source": []
  },
  {
   "cell_type": "code",
   "execution_count": 7,
   "metadata": {},
   "outputs": [
    {
     "name": "stdout",
     "output_type": "stream",
     "text": [
      "Found 2940 images belonging to 2 classes.\n",
      "Found 840 images belonging to 2 classes.\n",
      "Found 420 images belonging to 2 classes.\n"
     ]
    }
   ],
   "source": [
    "# Instantiating a generator object and normalizing the RGB values\n",
    "traingen = keras.preprocessing.image.ImageDataGenerator(rescale=1/255)\n",
    "testgen = keras.preprocessing.image.ImageDataGenerator(rescale=1/255)\n",
    "valgen = keras.preprocessing.image.ImageDataGenerator(rescale=1/255)\n",
    "\n",
    "train_data = traingen.flow_from_directory(\n",
    "    directory='../TB_Chest_Radiography_Database/Data_split/Train',\n",
    "    target_size=(512, 512),\n",
    "    class_mode='binary',\n",
    "    batch_size=20,\n",
    "    seed=42\n",
    ")\n",
    "\n",
    "val_data = testgen.flow_from_directory(\n",
    "    directory='../TB_Chest_Radiography_Database/Data_split/Validation',\n",
    "    target_size=(512, 512),\n",
    "    class_mode='binary',\n",
    "    batch_size=20,\n",
    "    seed=42\n",
    ")\n",
    "\n",
    "test_data = valgen.flow_from_directory(\n",
    "    directory='../TB_Chest_Radiography_Database/Data_split/Test',\n",
    "    target_size=(512, 512),\n",
    "    class_mode='binary',\n",
    "    batch_size=20,\n",
    "    seed=42\n",
    ")"
   ]
  },
  {
   "cell_type": "code",
   "execution_count": 9,
   "metadata": {},
   "outputs": [],
   "source": [
    "input_shape = (512,512,3)"
   ]
  },
  {
   "cell_type": "code",
   "execution_count": 10,
   "metadata": {},
   "outputs": [
    {
     "name": "stdout",
     "output_type": "stream",
     "text": [
      "Model: \"sequential\"\n",
      "_________________________________________________________________\n",
      "Layer (type)                 Output Shape              Param #   \n",
      "=================================================================\n",
      "flatten (Flatten)            (None, 786432)            0         \n",
      "_________________________________________________________________\n",
      "dense (Dense)                (None, 100)               78643300  \n",
      "_________________________________________________________________\n",
      "dense_1 (Dense)              (None, 1)                 101       \n",
      "=================================================================\n",
      "Total params: 78,643,401\n",
      "Trainable params: 78,643,401\n",
      "Non-trainable params: 0\n",
      "_________________________________________________________________\n"
     ]
    }
   ],
   "source": [
    "# Setting up a 1st of iteration baseline MLP\n",
    "baseline2 = keras.Sequential(\n",
    "    [\n",
    "        keras.Input(shape=(input_shape)), \n",
    "        keras.layers.Flatten(), \n",
    "        keras.layers.Dense(100, activation=\"relu\"),\n",
    "        keras.layers.Dense(1, activation=\"sigmoid\"),\n",
    "    ])\n",
    "\n",
    "baseline2.summary()"
   ]
  },
  {
   "cell_type": "code",
   "execution_count": 17,
   "metadata": {},
   "outputs": [],
   "source": [
    "# Compiling\n",
    "baseline2.compile(optimizer='adam',\n",
    "                      loss='binary_crossentropy',\n",
    "                      metrics=['acc', 'Recall', 'Precision',  'TruePositives', 'TrueNegatives', 'FalsePositives', 'FalseNegatives'])"
   ]
  },
  {
   "cell_type": "code",
   "execution_count": 18,
   "metadata": {},
   "outputs": [
    {
     "name": "stdout",
     "output_type": "stream",
     "text": [
      "Epoch 1/10\n",
      "100/100 [==============================] - 61s 613ms/step - loss: 0.2468 - acc: 0.9500 - recall: 0.8678 - precision: 0.8483 - true_positives: 302.0000 - true_negatives: 1598.0000 - false_positives: 54.0000 - false_negatives: 46.0000 - val_loss: 0.3273 - val_acc: 0.9202 - val_recall: 0.5357 - val_precision: 0.9740 - val_true_positives: 75.0000 - val_true_negatives: 698.0000 - val_false_positives: 2.0000 - val_false_negatives: 65.0000\n",
      "Epoch 2/10\n",
      "100/100 [==============================] - 60s 596ms/step - loss: 0.1512 - acc: 0.9530 - recall: 0.8287 - precision: 0.8770 - true_positives: 271.0000 - true_negatives: 1635.0000 - false_positives: 38.0000 - false_negatives: 56.0000 - val_loss: 0.2078 - val_acc: 0.9417 - val_recall: 0.8071 - val_precision: 0.8370 - val_true_positives: 113.0000 - val_true_negatives: 678.0000 - val_false_positives: 22.0000 - val_false_negatives: 27.0000\n",
      "Epoch 3/10\n",
      "100/100 [==============================] - 65s 655ms/step - loss: 0.1483 - acc: 0.9585 - recall: 0.8769 - precision: 0.8743 - true_positives: 292.0000 - true_negatives: 1625.0000 - false_positives: 42.0000 - false_negatives: 41.0000 - val_loss: 0.1752 - val_acc: 0.9452 - val_recall: 0.7643 - val_precision: 0.8917 - val_true_positives: 107.0000 - val_true_negatives: 687.0000 - val_false_positives: 13.0000 - val_false_negatives: 33.0000\n",
      "Epoch 4/10\n",
      "100/100 [==============================] - 59s 595ms/step - loss: 0.1367 - acc: 0.9645 - recall: 0.8713 - precision: 0.9169 - true_positives: 298.0000 - true_negatives: 1631.0000 - false_positives: 27.0000 - false_negatives: 44.0000 - val_loss: 0.1893 - val_acc: 0.9476 - val_recall: 0.7357 - val_precision: 0.9364 - val_true_positives: 103.0000 - val_true_negatives: 693.0000 - val_false_positives: 7.0000 - val_false_negatives: 37.0000\n",
      "Epoch 5/10\n",
      "100/100 [==============================] - 65s 648ms/step - loss: 0.1348 - acc: 0.9605 - recall: 0.8640 - precision: 0.8938 - true_positives: 286.0000 - true_negatives: 1635.0000 - false_positives: 34.0000 - false_negatives: 45.0000 - val_loss: 0.3031 - val_acc: 0.9190 - val_recall: 0.5286 - val_precision: 0.9737 - val_true_positives: 74.0000 - val_true_negatives: 698.0000 - val_false_positives: 2.0000 - val_false_negatives: 66.0000\n",
      "Epoch 6/10\n",
      "100/100 [==============================] - 64s 640ms/step - loss: 0.1258 - acc: 0.9715 - recall: 0.8950 - precision: 0.9360 - true_positives: 307.0000 - true_negatives: 1636.0000 - false_positives: 21.0000 - false_negatives: 36.0000 - val_loss: 0.1753 - val_acc: 0.9560 - val_recall: 0.8071 - val_precision: 0.9187 - val_true_positives: 113.0000 - val_true_negatives: 690.0000 - val_false_positives: 10.0000 - val_false_negatives: 27.0000\n",
      "Epoch 7/10\n",
      "100/100 [==============================] - 62s 618ms/step - loss: 0.1248 - acc: 0.9695 - recall: 0.9056 - precision: 0.9137 - true_positives: 307.0000 - true_negatives: 1632.0000 - false_positives: 29.0000 - false_negatives: 32.0000 - val_loss: 0.2143 - val_acc: 0.9464 - val_recall: 0.7357 - val_precision: 0.9279 - val_true_positives: 103.0000 - val_true_negatives: 692.0000 - val_false_positives: 8.0000 - val_false_negatives: 37.0000\n",
      "Epoch 8/10\n",
      "100/100 [==============================] - 66s 659ms/step - loss: 0.1348 - acc: 0.9670 - recall: 0.8853 - precision: 0.9177 - true_positives: 301.0000 - true_negatives: 1633.0000 - false_positives: 27.0000 - false_negatives: 39.0000 - val_loss: 0.1778 - val_acc: 0.9560 - val_recall: 0.8000 - val_precision: 0.9256 - val_true_positives: 112.0000 - val_true_negatives: 691.0000 - val_false_positives: 9.0000 - val_false_negatives: 28.0000\n",
      "Epoch 9/10\n",
      "100/100 [==============================] - 61s 608ms/step - loss: 0.1209 - acc: 0.9640 - recall: 0.8928 - precision: 0.8980 - true_positives: 308.0000 - true_negatives: 1620.0000 - false_positives: 35.0000 - false_negatives: 37.0000 - val_loss: 0.1846 - val_acc: 0.9488 - val_recall: 0.8429 - val_precision: 0.8489 - val_true_positives: 118.0000 - val_true_negatives: 679.0000 - val_false_positives: 21.0000 - val_false_negatives: 22.0000\n",
      "Epoch 10/10\n",
      "100/100 [==============================] - 62s 623ms/step - loss: 0.1125 - acc: 0.9695 - recall: 0.8960 - precision: 0.9156 - true_positives: 293.0000 - true_negatives: 1646.0000 - false_positives: 27.0000 - false_negatives: 34.0000 - val_loss: 0.1896 - val_acc: 0.9536 - val_recall: 0.7929 - val_precision: 0.9174 - val_true_positives: 111.0000 - val_true_negatives: 690.0000 - val_false_positives: 10.0000 - val_false_negatives: 29.0000\n"
     ]
    }
   ],
   "source": [
    "#Fitting\n",
    "baseline2_results = baseline2.fit_generator(train_data,\n",
    "                              steps_per_epoch=100,\n",
    "                              epochs=10,\n",
    "                              validation_data=val_data)"
   ]
  },
  {
   "cell_type": "code",
   "execution_count": 19,
   "metadata": {},
   "outputs": [
    {
     "name": "stdout",
     "output_type": "stream",
     "text": [
      "Epoch 1/10\n",
      "100/100 [==============================] - 56s 555ms/step - loss: 0.1475 - acc: 0.9510 - recall: 0.8466 - precision: 0.8619 - true_positives: 287.0000 - true_negatives: 1615.0000 - false_positives: 46.0000 - false_negatives: 52.0000 - val_loss: 0.1192 - val_acc: 0.9690 - val_recall: 0.8286 - val_precision: 0.9831 - val_true_positives: 58.0000 - val_true_negatives: 349.0000 - val_false_positives: 1.0000 - val_false_negatives: 12.0000\n",
      "Epoch 2/10\n",
      "100/100 [==============================] - 56s 556ms/step - loss: 0.1266 - acc: 0.9630 - recall: 0.8869 - precision: 0.8922 - true_positives: 298.0000 - true_negatives: 1628.0000 - false_positives: 36.0000 - false_negatives: 38.0000 - val_loss: 0.1527 - val_acc: 0.9452 - val_recall: 0.6714 - val_precision: 1.0000 - val_true_positives: 47.0000 - val_true_negatives: 350.0000 - val_false_positives: 0.0000e+00 - val_false_negatives: 23.0000\n",
      "Epoch 3/10\n",
      "100/100 [==============================] - 53s 531ms/step - loss: 0.0957 - acc: 0.9790 - recall: 0.9257 - precision: 0.9432 - true_positives: 299.0000 - true_negatives: 1659.0000 - false_positives: 18.0000 - false_negatives: 24.0000 - val_loss: 0.1077 - val_acc: 0.9643 - val_recall: 0.8000 - val_precision: 0.9825 - val_true_positives: 56.0000 - val_true_negatives: 349.0000 - val_false_positives: 1.0000 - val_false_negatives: 14.0000\n",
      "Epoch 4/10\n",
      "100/100 [==============================] - 51s 511ms/step - loss: 0.1148 - acc: 0.9665 - recall: 0.9018 - precision: 0.8991 - true_positives: 303.0000 - true_negatives: 1630.0000 - false_positives: 34.0000 - false_negatives: 33.0000 - val_loss: 0.1091 - val_acc: 0.9643 - val_recall: 0.7857 - val_precision: 1.0000 - val_true_positives: 55.0000 - val_true_negatives: 350.0000 - val_false_positives: 0.0000e+00 - val_false_negatives: 15.0000\n",
      "Epoch 5/10\n",
      "100/100 [==============================] - 54s 540ms/step - loss: 0.0932 - acc: 0.9750 - recall: 0.9281 - precision: 0.9167 - true_positives: 297.0000 - true_negatives: 1653.0000 - false_positives: 27.0000 - false_negatives: 23.0000 - val_loss: 0.2331 - val_acc: 0.9262 - val_recall: 0.5571 - val_precision: 1.0000 - val_true_positives: 39.0000 - val_true_negatives: 350.0000 - val_false_positives: 0.0000e+00 - val_false_negatives: 31.0000\n",
      "Epoch 6/10\n",
      "100/100 [==============================] - 54s 539ms/step - loss: 0.1051 - acc: 0.9715 - recall: 0.9206 - precision: 0.9125 - true_positives: 313.0000 - true_negatives: 1630.0000 - false_positives: 30.0000 - false_negatives: 27.0000 - val_loss: 0.1071 - val_acc: 0.9738 - val_recall: 0.9000 - val_precision: 0.9403 - val_true_positives: 63.0000 - val_true_negatives: 346.0000 - val_false_positives: 4.0000 - val_false_negatives: 7.0000\n",
      "Epoch 7/10\n",
      "100/100 [==============================] - 56s 555ms/step - loss: 0.1191 - acc: 0.9670 - recall: 0.9107 - precision: 0.9003 - true_positives: 316.0000 - true_negatives: 1618.0000 - false_positives: 35.0000 - false_negatives: 31.0000 - val_loss: 0.1015 - val_acc: 0.9667 - val_recall: 0.8000 - val_precision: 1.0000 - val_true_positives: 56.0000 - val_true_negatives: 350.0000 - val_false_positives: 0.0000e+00 - val_false_negatives: 14.0000\n",
      "Epoch 8/10\n",
      "100/100 [==============================] - 55s 550ms/step - loss: 0.0957 - acc: 0.9710 - recall: 0.9194 - precision: 0.9086 - true_positives: 308.0000 - true_negatives: 1634.0000 - false_positives: 31.0000 - false_negatives: 27.0000 - val_loss: 0.1335 - val_acc: 0.9571 - val_recall: 0.9000 - val_precision: 0.8514 - val_true_positives: 63.0000 - val_true_negatives: 339.0000 - val_false_positives: 11.0000 - val_false_negatives: 7.0000\n",
      "Epoch 9/10\n",
      "100/100 [==============================] - 43s 434ms/step - loss: 0.1011 - acc: 0.9740 - recall: 0.9253 - precision: 0.9253 - true_positives: 322.0000 - true_negatives: 1626.0000 - false_positives: 26.0000 - false_negatives: 26.0000 - val_loss: 0.1021 - val_acc: 0.9690 - val_recall: 0.9000 - val_precision: 0.9130 - val_true_positives: 63.0000 - val_true_negatives: 344.0000 - val_false_positives: 6.0000 - val_false_negatives: 7.0000\n",
      "Epoch 10/10\n",
      "100/100 [==============================] - 35s 348ms/step - loss: 0.0895 - acc: 0.9765 - recall: 0.9245 - precision: 0.9329 - true_positives: 306.0000 - true_negatives: 1647.0000 - false_positives: 22.0000 - false_negatives: 25.0000 - val_loss: 0.0940 - val_acc: 0.9738 - val_recall: 0.9143 - val_precision: 0.9275 - val_true_positives: 64.0000 - val_true_negatives: 345.0000 - val_false_positives: 5.0000 - val_false_negatives: 6.0000\n"
     ]
    }
   ],
   "source": [
    "baseline2_results = baseline2.fit_generator(train_data,\n",
    "                              steps_per_epoch=100,\n",
    "                              epochs=10,\n",
    "                              validation_data=test_data)"
   ]
  },
  {
   "cell_type": "code",
   "execution_count": 20,
   "metadata": {},
   "outputs": [],
   "source": [
    "def oes_matrix(results):\n",
    "    \"\"\"\n",
    "    Credit: 'https://github.com/austint1121/OES-PneumoniaClassification/blob/main/Final_Notebook.ipynb'\n",
    "    \n",
    "    Plots a confusion matrix using the results atrribute of a Keras history object\n",
    "  \n",
    "    Parameters:\n",
    "    results (keras.callbacks.History): \n",
    "  \n",
    "    Returns:\n",
    "    None\n",
    "    \"\"\"\n",
    "    \n",
    "    conf = np.array([[results.history['true_positives'][-1], results.history['false_negatives'][-1]], [results.history['false_positives'][-1], results.history['true_negatives'][-1]]])\n",
    "    fig, ax = plt.subplots(figsize=(10, 8))\n",
    "    heat = sns.heatmap(conf.astype('int'), annot=True, fmt='g', ax=ax )\n",
    "    heat.set_xticklabels(['Tuberculosis', 'Normal'], fontsize=15)\n",
    "    heat.set_yticklabels(['Tuberculosis', 'Normal'], fontsize=15)\n",
    "    plt.ylabel('True Label',fontsize=18)\n",
    "    plt.xlabel('Predicted Label', fontsize=18)"
   ]
  },
  {
   "cell_type": "code",
   "execution_count": 21,
   "metadata": {},
   "outputs": [
    {
     "data": {
      "image/png": "[encoded data removed]",
      "text/plain": [
       "<Figure size 720x576 with 2 Axes>"
      ]
     },
     "metadata": {
      "needs_background": "light"
     },
     "output_type": "display_data"
    }
   ],
   "source": [
    "oes_matrix(baseline2_results)"
   ]
  },
  {
   "cell_type": "code",
   "execution_count": null,
   "metadata": {},
   "outputs": [],
   "source": []
  },
  {
   "cell_type": "code",
   "execution_count": null,
   "metadata": {},
   "outputs": [],
   "source": []
  },
  {
   "cell_type": "code",
   "execution_count": null,
   "metadata": {},
   "outputs": [],
   "source": []
  }
 ],
 "metadata": {
  "kernelspec": {
   "display_name": "Python (learn-env)",
   "language": "python",
   "name": "learn-env"
  },
  "language_info": {
   "codemirror_mode": {
    "name": "ipython",
    "version": 3
   },
   "file_extension": ".py",
   "mimetype": "text/x-python",
   "name": "python",
   "nbconvert_exporter": "python",
   "pygments_lexer": "ipython3",
   "version": "3.8.5"
  }
 },
 "nbformat": 4,
 "nbformat_minor": 4
}
