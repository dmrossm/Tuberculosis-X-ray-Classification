{
 "cells": [
  {
   "cell_type": "code",
   "execution_count": 2,
   "metadata": {},
   "outputs": [
    {
     "name": "stdout",
     "output_type": "stream",
     "text": [
      "Collecting keras-tuner\n",
      "  Downloading keras_tuner-1.1.0-py3-none-any.whl (98 kB)\n",
      "\u001b[K     |████████████████████████████████| 98 kB 2.0 MB/s eta 0:00:011\n",
      "\u001b[?25hCollecting kt-legacy\n",
      "  Downloading kt_legacy-1.0.4-py3-none-any.whl (9.6 kB)\n",
      "Requirement already satisfied, skipping upgrade: ipython in /Users/daniellerossman/Desktop/anaconda3/envs/learn-env/lib/python3.8/site-packages (from keras-tuner) (7.18.1)\n",
      "Requirement already satisfied, skipping upgrade: tensorboard in /Users/daniellerossman/Desktop/anaconda3/envs/learn-env/lib/python3.8/site-packages (from keras-tuner) (2.3.0)\n",
      "Requirement already satisfied, skipping upgrade: requests in /Users/daniellerossman/Desktop/anaconda3/envs/learn-env/lib/python3.8/site-packages (from keras-tuner) (2.24.0)\n",
      "Requirement already satisfied, skipping upgrade: scipy in /Users/daniellerossman/Desktop/anaconda3/envs/learn-env/lib/python3.8/site-packages (from keras-tuner) (1.5.2)\n",
      "Requirement already satisfied, skipping upgrade: numpy in /Users/daniellerossman/Desktop/anaconda3/envs/learn-env/lib/python3.8/site-packages (from keras-tuner) (1.18.5)\n",
      "Requirement already satisfied, skipping upgrade: packaging in /Users/daniellerossman/Desktop/anaconda3/envs/learn-env/lib/python3.8/site-packages (from keras-tuner) (20.4)\n",
      "Requirement already satisfied, skipping upgrade: setuptools>=18.5 in /Users/daniellerossman/Desktop/anaconda3/envs/learn-env/lib/python3.8/site-packages (from ipython->keras-tuner) (50.3.0.post20201103)\n",
      "Requirement already satisfied, skipping upgrade: prompt-toolkit!=3.0.0,!=3.0.1,<3.1.0,>=2.0.0 in /Users/daniellerossman/Desktop/anaconda3/envs/learn-env/lib/python3.8/site-packages (from ipython->keras-tuner) (3.0.8)\n",
      "Requirement already satisfied, skipping upgrade: appnope; sys_platform == \"darwin\" in /Users/daniellerossman/Desktop/anaconda3/envs/learn-env/lib/python3.8/site-packages (from ipython->keras-tuner) (0.1.0)\n",
      "Requirement already satisfied, skipping upgrade: pickleshare in /Users/daniellerossman/Desktop/anaconda3/envs/learn-env/lib/python3.8/site-packages (from ipython->keras-tuner) (0.7.5)\n",
      "Requirement already satisfied, skipping upgrade: pygments in /Users/daniellerossman/Desktop/anaconda3/envs/learn-env/lib/python3.8/site-packages (from ipython->keras-tuner) (2.7.1)\n",
      "Requirement already satisfied, skipping upgrade: pexpect>4.3; sys_platform != \"win32\" in /Users/daniellerossman/Desktop/anaconda3/envs/learn-env/lib/python3.8/site-packages (from ipython->keras-tuner) (4.8.0)\n",
      "Requirement already satisfied, skipping upgrade: decorator in /Users/daniellerossman/Desktop/anaconda3/envs/learn-env/lib/python3.8/site-packages (from ipython->keras-tuner) (4.4.2)\n",
      "Requirement already satisfied, skipping upgrade: backcall in /Users/daniellerossman/Desktop/anaconda3/envs/learn-env/lib/python3.8/site-packages (from ipython->keras-tuner) (0.2.0)\n",
      "Requirement already satisfied, skipping upgrade: jedi>=0.10 in /Users/daniellerossman/Desktop/anaconda3/envs/learn-env/lib/python3.8/site-packages (from ipython->keras-tuner) (0.17.2)\n",
      "Requirement already satisfied, skipping upgrade: traitlets>=4.2 in /Users/daniellerossman/Desktop/anaconda3/envs/learn-env/lib/python3.8/site-packages (from ipython->keras-tuner) (5.0.4)\n",
      "Requirement already satisfied, skipping upgrade: google-auth<2,>=1.6.3 in /Users/daniellerossman/Desktop/anaconda3/envs/learn-env/lib/python3.8/site-packages (from tensorboard->keras-tuner) (1.22.0)\n",
      "Requirement already satisfied, skipping upgrade: werkzeug>=0.11.15 in /Users/daniellerossman/Desktop/anaconda3/envs/learn-env/lib/python3.8/site-packages (from tensorboard->keras-tuner) (1.0.1)\n",
      "Requirement already satisfied, skipping upgrade: tensorboard-plugin-wit>=1.6.0 in /Users/daniellerossman/Desktop/anaconda3/envs/learn-env/lib/python3.8/site-packages (from tensorboard->keras-tuner) (1.7.0)\n",
      "Requirement already satisfied, skipping upgrade: wheel>=0.26; python_version >= \"3\" in /Users/daniellerossman/Desktop/anaconda3/envs/learn-env/lib/python3.8/site-packages (from tensorboard->keras-tuner) (0.35.1)\n",
      "Requirement already satisfied, skipping upgrade: grpcio>=1.24.3 in /Users/daniellerossman/Desktop/anaconda3/envs/learn-env/lib/python3.8/site-packages (from tensorboard->keras-tuner) (1.31.0)\n",
      "Requirement already satisfied, skipping upgrade: google-auth-oauthlib<0.5,>=0.4.1 in /Users/daniellerossman/Desktop/anaconda3/envs/learn-env/lib/python3.8/site-packages (from tensorboard->keras-tuner) (0.4.1)\n",
      "Requirement already satisfied, skipping upgrade: markdown>=2.6.8 in /Users/daniellerossman/Desktop/anaconda3/envs/learn-env/lib/python3.8/site-packages (from tensorboard->keras-tuner) (3.3.1)\n",
      "Requirement already satisfied, skipping upgrade: six>=1.10.0 in /Users/daniellerossman/Desktop/anaconda3/envs/learn-env/lib/python3.8/site-packages (from tensorboard->keras-tuner) (1.15.0)\n",
      "Requirement already satisfied, skipping upgrade: protobuf>=3.6.0 in /Users/daniellerossman/Desktop/anaconda3/envs/learn-env/lib/python3.8/site-packages (from tensorboard->keras-tuner) (3.13.0)\n",
      "Requirement already satisfied, skipping upgrade: absl-py>=0.4 in /Users/daniellerossman/Desktop/anaconda3/envs/learn-env/lib/python3.8/site-packages (from tensorboard->keras-tuner) (0.10.0)\n",
      "Requirement already satisfied, skipping upgrade: chardet<4,>=3.0.2 in /Users/daniellerossman/Desktop/anaconda3/envs/learn-env/lib/python3.8/site-packages (from requests->keras-tuner) (3.0.4)\n",
      "Requirement already satisfied, skipping upgrade: urllib3!=1.25.0,!=1.25.1,<1.26,>=1.21.1 in /Users/daniellerossman/Desktop/anaconda3/envs/learn-env/lib/python3.8/site-packages (from requests->keras-tuner) (1.25.10)\n",
      "Requirement already satisfied, skipping upgrade: certifi>=2017.4.17 in /Users/daniellerossman/Desktop/anaconda3/envs/learn-env/lib/python3.8/site-packages (from requests->keras-tuner) (2021.5.30)\n",
      "Requirement already satisfied, skipping upgrade: idna<3,>=2.5 in /Users/daniellerossman/Desktop/anaconda3/envs/learn-env/lib/python3.8/site-packages (from requests->keras-tuner) (2.10)\n",
      "Requirement already satisfied, skipping upgrade: pyparsing>=2.0.2 in /Users/daniellerossman/Desktop/anaconda3/envs/learn-env/lib/python3.8/site-packages (from packaging->keras-tuner) (2.4.7)\n",
      "Requirement already satisfied, skipping upgrade: wcwidth in /Users/daniellerossman/Desktop/anaconda3/envs/learn-env/lib/python3.8/site-packages (from prompt-toolkit!=3.0.0,!=3.0.1,<3.1.0,>=2.0.0->ipython->keras-tuner) (0.2.5)\n",
      "Requirement already satisfied, skipping upgrade: ptyprocess>=0.5 in /Users/daniellerossman/Desktop/anaconda3/envs/learn-env/lib/python3.8/site-packages (from pexpect>4.3; sys_platform != \"win32\"->ipython->keras-tuner) (0.6.0)\n",
      "Requirement already satisfied, skipping upgrade: parso<0.8.0,>=0.7.0 in /Users/daniellerossman/Desktop/anaconda3/envs/learn-env/lib/python3.8/site-packages (from jedi>=0.10->ipython->keras-tuner) (0.7.1)\n",
      "Requirement already satisfied, skipping upgrade: ipython-genutils in /Users/daniellerossman/Desktop/anaconda3/envs/learn-env/lib/python3.8/site-packages (from traitlets>=4.2->ipython->keras-tuner) (0.2.0)\n",
      "Requirement already satisfied, skipping upgrade: rsa<5,>=3.1.4; python_version >= \"3.5\" in /Users/daniellerossman/Desktop/anaconda3/envs/learn-env/lib/python3.8/site-packages (from google-auth<2,>=1.6.3->tensorboard->keras-tuner) (4.6)\n",
      "Requirement already satisfied, skipping upgrade: pyasn1-modules>=0.2.1 in /Users/daniellerossman/Desktop/anaconda3/envs/learn-env/lib/python3.8/site-packages (from google-auth<2,>=1.6.3->tensorboard->keras-tuner) (0.2.7)\n",
      "Requirement already satisfied, skipping upgrade: aiohttp<4.0.0dev,>=3.6.2; python_version >= \"3.6\" in /Users/daniellerossman/Desktop/anaconda3/envs/learn-env/lib/python3.8/site-packages (from google-auth<2,>=1.6.3->tensorboard->keras-tuner) (3.6.2)\n",
      "Requirement already satisfied, skipping upgrade: cachetools<5.0,>=2.0.0 in /Users/daniellerossman/Desktop/anaconda3/envs/learn-env/lib/python3.8/site-packages (from google-auth<2,>=1.6.3->tensorboard->keras-tuner) (4.1.1)\n",
      "Requirement already satisfied, skipping upgrade: requests-oauthlib>=0.7.0 in /Users/daniellerossman/Desktop/anaconda3/envs/learn-env/lib/python3.8/site-packages (from google-auth-oauthlib<0.5,>=0.4.1->tensorboard->keras-tuner) (1.3.0)\n",
      "Requirement already satisfied, skipping upgrade: pyasn1>=0.1.3 in /Users/daniellerossman/Desktop/anaconda3/envs/learn-env/lib/python3.8/site-packages (from rsa<5,>=3.1.4; python_version >= \"3.5\"->google-auth<2,>=1.6.3->tensorboard->keras-tuner) (0.4.8)\n",
      "Requirement already satisfied, skipping upgrade: async-timeout<4.0,>=3.0 in /Users/daniellerossman/Desktop/anaconda3/envs/learn-env/lib/python3.8/site-packages (from aiohttp<4.0.0dev,>=3.6.2; python_version >= \"3.6\"->google-auth<2,>=1.6.3->tensorboard->keras-tuner) (3.0.1)\n"
     ]
    },
    {
     "name": "stdout",
     "output_type": "stream",
     "text": [
      "Requirement already satisfied, skipping upgrade: attrs>=17.3.0 in /Users/daniellerossman/Desktop/anaconda3/envs/learn-env/lib/python3.8/site-packages (from aiohttp<4.0.0dev,>=3.6.2; python_version >= \"3.6\"->google-auth<2,>=1.6.3->tensorboard->keras-tuner) (20.2.0)\n",
      "Requirement already satisfied, skipping upgrade: multidict<5.0,>=4.5 in /Users/daniellerossman/Desktop/anaconda3/envs/learn-env/lib/python3.8/site-packages (from aiohttp<4.0.0dev,>=3.6.2; python_version >= \"3.6\"->google-auth<2,>=1.6.3->tensorboard->keras-tuner) (4.7.5)\n",
      "Requirement already satisfied, skipping upgrade: yarl<2.0,>=1.0 in /Users/daniellerossman/Desktop/anaconda3/envs/learn-env/lib/python3.8/site-packages (from aiohttp<4.0.0dev,>=3.6.2; python_version >= \"3.6\"->google-auth<2,>=1.6.3->tensorboard->keras-tuner) (1.6.2)\n",
      "Requirement already satisfied, skipping upgrade: oauthlib>=3.0.0 in /Users/daniellerossman/Desktop/anaconda3/envs/learn-env/lib/python3.8/site-packages (from requests-oauthlib>=0.7.0->google-auth-oauthlib<0.5,>=0.4.1->tensorboard->keras-tuner) (3.1.0)\n",
      "Installing collected packages: kt-legacy, keras-tuner\n",
      "Successfully installed keras-tuner-1.1.0 kt-legacy-1.0.4\n"
     ]
    }
   ],
   "source": [
    "import numpy as np \n",
    "import pandas as pd \n",
    "import seaborn as sns\n",
    "import random\n",
    "import matplotlib.pyplot as plt\n",
    "import keras\n",
    "from keras import layers\n",
    "from keras.preprocessing.image import ImageDataGenerator\n",
    "from keras.applications.densenet import DenseNet121\n",
    "from keras.layers import Dense, GlobalAveragePooling2D\n",
    "from keras.models import Model\n",
    "from keras import backend as K\n",
    "from shutil import copyfile, rmtree\n",
    "\n",
    "\n",
    "!pip install keras-tuner --upgrade"
   ]
  },
  {
   "cell_type": "code",
   "execution_count": 3,
   "metadata": {},
   "outputs": [],
   "source": [
    "import keras_tuner as kt"
   ]
  },
  {
   "cell_type": "code",
   "execution_count": null,
   "metadata": {},
   "outputs": [],
   "source": [
    "def build_model(hp):\n",
    "  model = keras.Sequential()\n",
    "  model.add(keras.layers.Dense(\n",
    "      hp.Choice('units', [8, 16, 32]),\n",
    "      activation='relu'))\n",
    "  model.add(keras.layers.Dense(1, activation='relu'))\n",
    "  model.compile(loss='mse')\n",
    "  return model"
   ]
  },
  {
   "cell_type": "code",
   "execution_count": null,
   "metadata": {},
   "outputs": [],
   "source": [
    "tuner = kt.RandomSearch(\n",
    "    build_model,\n",
    "    objective='val_loss',\n",
    "    max_trials=5)"
   ]
  },
  {
   "cell_type": "code",
   "execution_count": null,
   "metadata": {},
   "outputs": [],
   "source": []
  },
  {
   "cell_type": "code",
   "execution_count": null,
   "metadata": {},
   "outputs": [],
   "source": []
  },
  {
   "cell_type": "code",
   "execution_count": null,
   "metadata": {},
   "outputs": [],
   "source": []
  },
  {
   "cell_type": "code",
   "execution_count": null,
   "metadata": {},
   "outputs": [],
   "source": []
  },
  {
   "cell_type": "code",
   "execution_count": null,
   "metadata": {},
   "outputs": [],
   "source": []
  },
  {
   "cell_type": "code",
   "execution_count": null,
   "metadata": {},
   "outputs": [],
   "source": []
  }
 ],
 "metadata": {
  "kernelspec": {
   "display_name": "Python (learn-env)",
   "language": "python",
   "name": "learn-env"
  },
  "language_info": {
   "codemirror_mode": {
    "name": "ipython",
    "version": 3
   },
   "file_extension": ".py",
   "mimetype": "text/x-python",
   "name": "python",
   "nbconvert_exporter": "python",
   "pygments_lexer": "ipython3",
   "version": "3.8.5"
  }
 },
 "nbformat": 4,
 "nbformat_minor": 4
}
